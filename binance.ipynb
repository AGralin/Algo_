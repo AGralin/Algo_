{
 "cells": [
  {
   "cell_type": "code",
   "execution_count": null,
   "metadata": {},
   "outputs": [],
   "source": [
    "import websocket\n",
    "\n",
    "# binance websocket for live crypto (VPN)\n",
    "\n",
    "def on_message(ws, message):\n",
    "    print(message)\n",
    "\n",
    "def on_error(ws, error):\n",
    "    print(error)\n",
    "\n",
    "def on_close(close_msg ):\n",
    "    print(close_msg)\n",
    "\n",
    "def streamKline(symbol, interval):\n",
    "    socket = f\"wss://stream.binance.com:9443/ws/{symbol}@kline_{interval}\"\n",
    "    ws = websocket.WebSocketApp(socket,\n",
    "                                on_message=on_message,\n",
    "                                on_error=on_error,\n",
    "                                on_close=on_close)\n",
    "    ws.run_forever()\n",
    "# set symbol and timeframe\n",
    "streamKline('ethusdt', '1m')"
   ]
  },
  {
   "cell_type": "code",
   "execution_count": null,
   "metadata": {},
   "outputs": [],
   "source": [
    "# set crypto and timeframe\n",
    "cc = 'btcusd'\n",
    "tf = '1m'\n",
    "socket = f'wss://stream.binance.com:443/ws/{cc}t@kline_{tf}'\n",
    "\n",
    "# websocket (VPN)\n",
    "def on_message(ws, message):\n",
    "    print(message)\n",
    "def on_close(ws):\n",
    "    print(\"connection closed\")\n",
    "\n",
    "ws = websocket.WebSocketApp(socket,on_message = on_message, on_close = on_close)\n",
    "\n",
    "ws.run_forever()"
   ]
  }
 ],
 "metadata": {
  "kernelspec": {
   "display_name": "algotrading",
   "language": "python",
   "name": "python3"
  },
  "language_info": {
   "codemirror_mode": {
    "name": "ipython",
    "version": 3
   },
   "file_extension": ".py",
   "mimetype": "text/x-python",
   "name": "python",
   "nbconvert_exporter": "python",
   "pygments_lexer": "ipython3",
   "version": "3.7.15"
  },
  "orig_nbformat": 4,
  "vscode": {
   "interpreter": {
    "hash": "3d553efa6b71e0543a766bc47669973ba29a0430e98b5bbc2d034d077489b7d5"
   }
  }
 },
 "nbformat": 4,
 "nbformat_minor": 2
}
