{
 "cells": [
  {
   "cell_type": "code",
   "execution_count": 1,
   "metadata": {},
   "outputs": [],
   "source": [
    "import os\n",
    "import requests\n",
    "from pathlib import Path\n",
    "import numpy as np\n",
    "import pandas as pd\n",
    "from websocket import create_connection\n",
    "import simplejson as json\n",
    "from dotenv import load_dotenv\n",
    "from alpaca_trade_api.rest import REST, TimeFrame\n",
    "import pprint"
   ]
  },
  {
   "cell_type": "code",
   "execution_count": 2,
   "metadata": {},
   "outputs": [
    {
     "data": {
      "text/plain": [
       "True"
      ]
     },
     "execution_count": 2,
     "metadata": {},
     "output_type": "execute_result"
    }
   ],
   "source": [
    "load_dotenv()"
   ]
  },
  {
   "cell_type": "code",
   "execution_count": 3,
   "metadata": {},
   "outputs": [],
   "source": [
    "alpaca_api_key = os.getenv(\"ALPACA_API_KEY\")\n",
    "alpaca_secret_key = os.getenv(\"ALPACA_SECRET_KEY\")\n",
    "base_url = 'https://paper-api.alpaca.markets'"
   ]
  },
  {
   "cell_type": "code",
   "execution_count": 4,
   "metadata": {},
   "outputs": [],
   "source": [
    "api = REST(alpaca_api_key, alpaca_secret_key, base_url, api_version=\"v1\")"
   ]
  },
  {
   "attachments": {},
   "cell_type": "markdown",
   "metadata": {},
   "source": [
    "Websocket:"
   ]
  },
  {
   "cell_type": "code",
   "execution_count": null,
   "metadata": {},
   "outputs": [],
   "source": [
    "url = 'wss://stream.data.alpaca.markets/v1beta1/crypto'\n",
    "ws = create_connection(url)"
   ]
  },
  {
   "attachments": {},
   "cell_type": "markdown",
   "metadata": {},
   "source": [
    "Live Price:"
   ]
  },
  {
   "cell_type": "code",
   "execution_count": 24,
   "metadata": {},
   "outputs": [
    {
     "name": "stdout",
     "output_type": "stream",
     "text": [
      "the current price of ETHUSD is $1567.58\n"
     ]
    }
   ],
   "source": [
    "import alpaca_trade_api\n",
    "api = alpaca_trade_api.REST(key_id=alpaca_api_key, secret_key=alpaca_secret_key)\n",
    "\n",
    "# Today's bars\n",
    "bars = api.get_crypto_bars(\"BTCUSD\", \"1Min\")\n",
    "\n",
    "# set crypto and exchange\n",
    "cc = 'ETHUSD'\n",
    "exchange = 'CBSE'\n",
    "\n",
    "# Latest price\n",
    "latest_price = api.get_latest_crypto_trade(f\"{cc}\", f\"{exchange}\").price\n",
    "print(f'the current price of {cc} is ${latest_price}')"
   ]
  },
  {
   "attachments": {},
   "cell_type": "markdown",
   "metadata": {},
   "source": [
    "Backtesting:"
   ]
  },
  {
   "cell_type": "code",
   "execution_count": 5,
   "metadata": {},
   "outputs": [
    {
     "data": {
      "text/html": [
       "<div>\n",
       "<style scoped>\n",
       "    .dataframe tbody tr th:only-of-type {\n",
       "        vertical-align: middle;\n",
       "    }\n",
       "\n",
       "    .dataframe tbody tr th {\n",
       "        vertical-align: top;\n",
       "    }\n",
       "\n",
       "    .dataframe thead th {\n",
       "        text-align: right;\n",
       "    }\n",
       "</style>\n",
       "<table border=\"1\" class=\"dataframe\">\n",
       "  <thead>\n",
       "    <tr style=\"text-align: right;\">\n",
       "      <th></th>\n",
       "      <th>exchange</th>\n",
       "      <th>open</th>\n",
       "      <th>high</th>\n",
       "      <th>low</th>\n",
       "      <th>close</th>\n",
       "      <th>volume</th>\n",
       "      <th>trade_count</th>\n",
       "      <th>vwap</th>\n",
       "    </tr>\n",
       "    <tr>\n",
       "      <th>timestamp</th>\n",
       "      <th></th>\n",
       "      <th></th>\n",
       "      <th></th>\n",
       "      <th></th>\n",
       "      <th></th>\n",
       "      <th></th>\n",
       "      <th></th>\n",
       "      <th></th>\n",
       "    </tr>\n",
       "  </thead>\n",
       "  <tbody>\n",
       "    <tr>\n",
       "      <th>2023-01-16 23:00:00+00:00</th>\n",
       "      <td>CBSE</td>\n",
       "      <td>1579.31</td>\n",
       "      <td>1582.89</td>\n",
       "      <td>1572.60</td>\n",
       "      <td>1576.96</td>\n",
       "      <td>10577.376387</td>\n",
       "      <td>17689</td>\n",
       "      <td>1578.210851</td>\n",
       "    </tr>\n",
       "    <tr>\n",
       "      <th>2023-01-16 23:00:00+00:00</th>\n",
       "      <td>ERSX</td>\n",
       "      <td>1579.61</td>\n",
       "      <td>1582.99</td>\n",
       "      <td>1573.30</td>\n",
       "      <td>1576.39</td>\n",
       "      <td>934.541541</td>\n",
       "      <td>446</td>\n",
       "      <td>1578.299155</td>\n",
       "    </tr>\n",
       "    <tr>\n",
       "      <th>2023-01-17 00:00:00+00:00</th>\n",
       "      <td>BNCU</td>\n",
       "      <td>1576.46</td>\n",
       "      <td>1581.46</td>\n",
       "      <td>1561.75</td>\n",
       "      <td>1563.50</td>\n",
       "      <td>4556.908580</td>\n",
       "      <td>3479</td>\n",
       "      <td>1572.143337</td>\n",
       "    </tr>\n",
       "    <tr>\n",
       "      <th>2023-01-17 00:00:00+00:00</th>\n",
       "      <td>CBSE</td>\n",
       "      <td>1577.01</td>\n",
       "      <td>1582.50</td>\n",
       "      <td>1558.90</td>\n",
       "      <td>1564.52</td>\n",
       "      <td>16694.850209</td>\n",
       "      <td>25050</td>\n",
       "      <td>1571.938007</td>\n",
       "    </tr>\n",
       "    <tr>\n",
       "      <th>2023-01-17 00:00:00+00:00</th>\n",
       "      <td>ERSX</td>\n",
       "      <td>1573.68</td>\n",
       "      <td>1582.57</td>\n",
       "      <td>1559.70</td>\n",
       "      <td>1564.86</td>\n",
       "      <td>1178.782521</td>\n",
       "      <td>170</td>\n",
       "      <td>1573.660785</td>\n",
       "    </tr>\n",
       "  </tbody>\n",
       "</table>\n",
       "</div>"
      ],
      "text/plain": [
       "                          exchange     open     high      low    close  \\\n",
       "timestamp                                                                \n",
       "2023-01-16 23:00:00+00:00     CBSE  1579.31  1582.89  1572.60  1576.96   \n",
       "2023-01-16 23:00:00+00:00     ERSX  1579.61  1582.99  1573.30  1576.39   \n",
       "2023-01-17 00:00:00+00:00     BNCU  1576.46  1581.46  1561.75  1563.50   \n",
       "2023-01-17 00:00:00+00:00     CBSE  1577.01  1582.50  1558.90  1564.52   \n",
       "2023-01-17 00:00:00+00:00     ERSX  1573.68  1582.57  1559.70  1564.86   \n",
       "\n",
       "                                 volume  trade_count         vwap  \n",
       "timestamp                                                          \n",
       "2023-01-16 23:00:00+00:00  10577.376387        17689  1578.210851  \n",
       "2023-01-16 23:00:00+00:00    934.541541          446  1578.299155  \n",
       "2023-01-17 00:00:00+00:00   4556.908580         3479  1572.143337  \n",
       "2023-01-17 00:00:00+00:00  16694.850209        25050  1571.938007  \n",
       "2023-01-17 00:00:00+00:00   1178.782521          170  1573.660785  "
      ]
     },
     "execution_count": 5,
     "metadata": {},
     "output_type": "execute_result"
    }
   ],
   "source": [
    "# Fetch 1hour historical bars of ETH\n",
    "bars = api.get_crypto_bars(\"ETHUSD\", TimeFrame.Hour).df\n",
    "bars.tail()\n"
   ]
  },
  {
   "cell_type": "code",
   "execution_count": 6,
   "metadata": {},
   "outputs": [
    {
     "data": {
      "text/html": [
       "<div>\n",
       "<style scoped>\n",
       "    .dataframe tbody tr th:only-of-type {\n",
       "        vertical-align: middle;\n",
       "    }\n",
       "\n",
       "    .dataframe tbody tr th {\n",
       "        vertical-align: top;\n",
       "    }\n",
       "\n",
       "    .dataframe thead th {\n",
       "        text-align: right;\n",
       "    }\n",
       "</style>\n",
       "<table border=\"1\" class=\"dataframe\">\n",
       "  <thead>\n",
       "    <tr style=\"text-align: right;\">\n",
       "      <th></th>\n",
       "      <th>exchange</th>\n",
       "      <th>open</th>\n",
       "      <th>high</th>\n",
       "      <th>low</th>\n",
       "      <th>close</th>\n",
       "      <th>volume</th>\n",
       "      <th>trade_count</th>\n",
       "      <th>vwap</th>\n",
       "    </tr>\n",
       "    <tr>\n",
       "      <th>timestamp</th>\n",
       "      <th></th>\n",
       "      <th></th>\n",
       "      <th></th>\n",
       "      <th></th>\n",
       "      <th></th>\n",
       "      <th></th>\n",
       "      <th></th>\n",
       "      <th></th>\n",
       "    </tr>\n",
       "  </thead>\n",
       "  <tbody>\n",
       "    <tr>\n",
       "      <th>2023-01-16 06:00:00+00:00</th>\n",
       "      <td>CBSE</td>\n",
       "      <td>1576.44</td>\n",
       "      <td>1579.30</td>\n",
       "      <td>1569.73</td>\n",
       "      <td>1571.49</td>\n",
       "      <td>11996.189254</td>\n",
       "      <td>19977</td>\n",
       "      <td>1573.825871</td>\n",
       "    </tr>\n",
       "    <tr>\n",
       "      <th>2023-01-16 07:00:00+00:00</th>\n",
       "      <td>CBSE</td>\n",
       "      <td>1571.65</td>\n",
       "      <td>1571.99</td>\n",
       "      <td>1563.21</td>\n",
       "      <td>1566.71</td>\n",
       "      <td>10822.723580</td>\n",
       "      <td>22755</td>\n",
       "      <td>1567.314122</td>\n",
       "    </tr>\n",
       "    <tr>\n",
       "      <th>2023-01-16 08:00:00+00:00</th>\n",
       "      <td>CBSE</td>\n",
       "      <td>1566.62</td>\n",
       "      <td>1567.18</td>\n",
       "      <td>1522.35</td>\n",
       "      <td>1538.15</td>\n",
       "      <td>29535.121679</td>\n",
       "      <td>33543</td>\n",
       "      <td>1541.379441</td>\n",
       "    </tr>\n",
       "    <tr>\n",
       "      <th>2023-01-16 09:00:00+00:00</th>\n",
       "      <td>CBSE</td>\n",
       "      <td>1538.39</td>\n",
       "      <td>1546.37</td>\n",
       "      <td>1536.68</td>\n",
       "      <td>1544.89</td>\n",
       "      <td>9714.360704</td>\n",
       "      <td>16832</td>\n",
       "      <td>1542.307653</td>\n",
       "    </tr>\n",
       "    <tr>\n",
       "      <th>2023-01-16 10:00:00+00:00</th>\n",
       "      <td>CBSE</td>\n",
       "      <td>1544.84</td>\n",
       "      <td>1553.64</td>\n",
       "      <td>1544.53</td>\n",
       "      <td>1547.31</td>\n",
       "      <td>8951.748037</td>\n",
       "      <td>16741</td>\n",
       "      <td>1547.825028</td>\n",
       "    </tr>\n",
       "  </tbody>\n",
       "</table>\n",
       "</div>"
      ],
      "text/plain": [
       "                          exchange     open     high      low    close  \\\n",
       "timestamp                                                                \n",
       "2023-01-16 06:00:00+00:00     CBSE  1576.44  1579.30  1569.73  1571.49   \n",
       "2023-01-16 07:00:00+00:00     CBSE  1571.65  1571.99  1563.21  1566.71   \n",
       "2023-01-16 08:00:00+00:00     CBSE  1566.62  1567.18  1522.35  1538.15   \n",
       "2023-01-16 09:00:00+00:00     CBSE  1538.39  1546.37  1536.68  1544.89   \n",
       "2023-01-16 10:00:00+00:00     CBSE  1544.84  1553.64  1544.53  1547.31   \n",
       "\n",
       "                                 volume  trade_count         vwap  \n",
       "timestamp                                                          \n",
       "2023-01-16 06:00:00+00:00  11996.189254        19977  1573.825871  \n",
       "2023-01-16 07:00:00+00:00  10822.723580        22755  1567.314122  \n",
       "2023-01-16 08:00:00+00:00  29535.121679        33543  1541.379441  \n",
       "2023-01-16 09:00:00+00:00   9714.360704        16832  1542.307653  \n",
       "2023-01-16 10:00:00+00:00   8951.748037        16741  1547.825028  "
      ]
     },
     "metadata": {},
     "output_type": "display_data"
    },
    {
     "data": {
      "text/html": [
       "<div>\n",
       "<style scoped>\n",
       "    .dataframe tbody tr th:only-of-type {\n",
       "        vertical-align: middle;\n",
       "    }\n",
       "\n",
       "    .dataframe tbody tr th {\n",
       "        vertical-align: top;\n",
       "    }\n",
       "\n",
       "    .dataframe thead th {\n",
       "        text-align: right;\n",
       "    }\n",
       "</style>\n",
       "<table border=\"1\" class=\"dataframe\">\n",
       "  <thead>\n",
       "    <tr style=\"text-align: right;\">\n",
       "      <th></th>\n",
       "      <th>exchange</th>\n",
       "      <th>open</th>\n",
       "      <th>high</th>\n",
       "      <th>low</th>\n",
       "      <th>close</th>\n",
       "      <th>volume</th>\n",
       "      <th>trade_count</th>\n",
       "      <th>vwap</th>\n",
       "    </tr>\n",
       "    <tr>\n",
       "      <th>timestamp</th>\n",
       "      <th></th>\n",
       "      <th></th>\n",
       "      <th></th>\n",
       "      <th></th>\n",
       "      <th></th>\n",
       "      <th></th>\n",
       "      <th></th>\n",
       "      <th></th>\n",
       "    </tr>\n",
       "  </thead>\n",
       "  <tbody>\n",
       "    <tr>\n",
       "      <th>2023-01-16 20:00:00+00:00</th>\n",
       "      <td>CBSE</td>\n",
       "      <td>1591.01</td>\n",
       "      <td>1599.29</td>\n",
       "      <td>1584.00</td>\n",
       "      <td>1587.19</td>\n",
       "      <td>16543.625117</td>\n",
       "      <td>27943</td>\n",
       "      <td>1589.942019</td>\n",
       "    </tr>\n",
       "    <tr>\n",
       "      <th>2023-01-16 21:00:00+00:00</th>\n",
       "      <td>CBSE</td>\n",
       "      <td>1587.19</td>\n",
       "      <td>1587.90</td>\n",
       "      <td>1573.76</td>\n",
       "      <td>1579.37</td>\n",
       "      <td>13112.092501</td>\n",
       "      <td>22612</td>\n",
       "      <td>1580.431202</td>\n",
       "    </tr>\n",
       "    <tr>\n",
       "      <th>2023-01-16 22:00:00+00:00</th>\n",
       "      <td>CBSE</td>\n",
       "      <td>1579.34</td>\n",
       "      <td>1585.99</td>\n",
       "      <td>1578.12</td>\n",
       "      <td>1579.41</td>\n",
       "      <td>7429.443971</td>\n",
       "      <td>15027</td>\n",
       "      <td>1582.115755</td>\n",
       "    </tr>\n",
       "    <tr>\n",
       "      <th>2023-01-16 23:00:00+00:00</th>\n",
       "      <td>CBSE</td>\n",
       "      <td>1579.31</td>\n",
       "      <td>1582.89</td>\n",
       "      <td>1572.60</td>\n",
       "      <td>1576.96</td>\n",
       "      <td>10577.376387</td>\n",
       "      <td>17689</td>\n",
       "      <td>1578.210851</td>\n",
       "    </tr>\n",
       "    <tr>\n",
       "      <th>2023-01-17 00:00:00+00:00</th>\n",
       "      <td>CBSE</td>\n",
       "      <td>1577.01</td>\n",
       "      <td>1582.50</td>\n",
       "      <td>1558.90</td>\n",
       "      <td>1564.52</td>\n",
       "      <td>16694.850209</td>\n",
       "      <td>25050</td>\n",
       "      <td>1571.938007</td>\n",
       "    </tr>\n",
       "  </tbody>\n",
       "</table>\n",
       "</div>"
      ],
      "text/plain": [
       "                          exchange     open     high      low    close  \\\n",
       "timestamp                                                                \n",
       "2023-01-16 20:00:00+00:00     CBSE  1591.01  1599.29  1584.00  1587.19   \n",
       "2023-01-16 21:00:00+00:00     CBSE  1587.19  1587.90  1573.76  1579.37   \n",
       "2023-01-16 22:00:00+00:00     CBSE  1579.34  1585.99  1578.12  1579.41   \n",
       "2023-01-16 23:00:00+00:00     CBSE  1579.31  1582.89  1572.60  1576.96   \n",
       "2023-01-17 00:00:00+00:00     CBSE  1577.01  1582.50  1558.90  1564.52   \n",
       "\n",
       "                                 volume  trade_count         vwap  \n",
       "timestamp                                                          \n",
       "2023-01-16 20:00:00+00:00  16543.625117        27943  1589.942019  \n",
       "2023-01-16 21:00:00+00:00  13112.092501        22612  1580.431202  \n",
       "2023-01-16 22:00:00+00:00   7429.443971        15027  1582.115755  \n",
       "2023-01-16 23:00:00+00:00  10577.376387        17689  1578.210851  \n",
       "2023-01-17 00:00:00+00:00  16694.850209        25050  1571.938007  "
      ]
     },
     "metadata": {},
     "output_type": "display_data"
    }
   ],
   "source": [
    "# Filter data by exchange (coinbase)\n",
    "bars = bars[bars.exchange == 'CBSE']\n",
    "display(bars.head())\n",
    "display(bars.tail())"
   ]
  },
  {
   "cell_type": "code",
   "execution_count": 8,
   "metadata": {},
   "outputs": [
    {
     "data": {
      "text/plain": [
       "<AxesSubplot:xlabel='timestamp'>"
      ]
     },
     "execution_count": 8,
     "metadata": {},
     "output_type": "execute_result"
    },
    {
     "data": {
      "image/png": "[encoded data removed]",
      "text/plain": [
       "<Figure size 640x480 with 1 Axes>"
      ]
     },
     "metadata": {},
     "output_type": "display_data"
    }
   ],
   "source": [
    "bars['close'].plot()"
   ]
  },
  {
   "cell_type": "code",
   "execution_count": null,
   "metadata": {},
   "outputs": [],
   "source": [
    "# Get current position on ETH. Yields error if we don't hold any\n",
    "api.get_position('ETH')\n",
    "\n",
    "# Get all positions and find out if we hold any Bitcoin\n",
    "positions = api.list_positions()\n",
    "position_qty = 0\n",
    "for p in positions:\n",
    "    if p.symbol == 'ETHUSD':\n",
    "        position_qty = float(p.qty)\n",
    "print(position_qty)"
   ]
  },
  {
   "cell_type": "code",
   "execution_count": null,
   "metadata": {},
   "outputs": [],
   "source": [
    "# market order to buy 1 ETH\n",
    "# order_buy = api.submit_order('ETHUSD', qty=1, side='buy')"
   ]
  },
  {
   "cell_type": "code",
   "execution_count": null,
   "metadata": {},
   "outputs": [],
   "source": [
    "# market order to sell 1 ETH\n",
    "# order_sell = api.submit_order('ETHUSD', qty=1, side='sell')"
   ]
  },
  {
   "cell_type": "code",
   "execution_count": null,
   "metadata": {},
   "outputs": [],
   "source": []
  },
  {
   "cell_type": "code",
   "execution_count": null,
   "metadata": {},
   "outputs": [],
   "source": []
  },
  {
   "cell_type": "code",
   "execution_count": null,
   "metadata": {},
   "outputs": [],
   "source": [
    "# machine learning imports\n",
    "from sklearn import svm\n",
    "from sklearn.preprocessing import StandardScaler\n",
    "from pandas.tseries.offsets import DateOffset\n",
    "from sklearn.metrics import classification_report"
   ]
  }
 ],
 "metadata": {
  "kernelspec": {
   "display_name": "algotrading",
   "language": "python",
   "name": "python3"
  },
  "language_info": {
   "codemirror_mode": {
    "name": "ipython",
    "version": 3
   },
   "file_extension": ".py",
   "mimetype": "text/x-python",
   "name": "python",
   "nbconvert_exporter": "python",
   "pygments_lexer": "ipython3",
   "version": "3.7.15"
  },
  "orig_nbformat": 4,
  "vscode": {
   "interpreter": {
    "hash": "3d553efa6b71e0543a766bc47669973ba29a0430e98b5bbc2d034d077489b7d5"
   }
  }
 },
 "nbformat": 4,
 "nbformat_minor": 2
}
